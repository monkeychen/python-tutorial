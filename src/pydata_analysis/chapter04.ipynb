{
 "cells": [
  {
   "cell_type": "markdown",
   "metadata": {
    "collapsed": true
   },
   "source": [
    "# 第4章 Numpy基础：数组与向量化计算"
   ]
  },
  {
   "cell_type": "code",
   "execution_count": 3,
   "metadata": {},
   "outputs": [
    {
     "name": "stdout",
     "output_type": "stream",
     "text": [
      "---------np---------\nCPU times: user 23.4 ms, sys: 294 µs, total: 23.7 ms\nWall time: 22.9 ms\n---------builtin-----------\n"
     ]
    },
    {
     "name": "stdout",
     "output_type": "stream",
     "text": [
      "CPU times: user 676 ms, sys: 164 ms, total: 840 ms\nWall time: 877 ms\n"
     ]
    }
   ],
   "source": [
    "import numpy as np\n",
    "my_arr = np.arange(1000000)\n",
    "my_list = list(range(1000000))\n",
    "print(\"---------np---------\")\n",
    "%time for _ in range(10): my_arr2 = my_arr * 2\n",
    "print(\"---------builtin-----------\")\n",
    "%time for _ in range(10): my_list2 = [x * 2 for x in my_list]\n",
    "\n"
   ]
  },
  {
   "cell_type": "markdown",
   "metadata": {},
   "source": []
  },
  {
   "cell_type": "code",
   "execution_count": 12,
   "metadata": {},
   "outputs": [
    {
     "name": "stdout",
     "output_type": "stream",
     "text": [
      "[[ 1.35729254  0.7604816   1.45567086]\n [ 0.65816685 -0.69008919  0.32973979]]\n[[13.57292543  7.60481596 14.55670865]\n [ 6.58166854 -6.90089192  3.29739795]]\n[[ 2.71458509  1.52096319  2.91134173]\n [ 1.31633371 -1.38017838  0.65947959]]\n(2, 3)\nfloat64\n<class 'numpy.ndarray'>\n"
     ]
    }
   ],
   "source": [
    "data = np.random.randn(2, 3)\n",
    "print(data)\n",
    "print(data * 10)\n",
    "print(data + data)\n",
    "print(data.shape)\n",
    "print(data.dtype)\n",
    "print(type(data))\n"
   ]
  },
  {
   "cell_type": "code",
   "execution_count": 22,
   "metadata": {},
   "outputs": [
    {
     "name": "stdout",
     "output_type": "stream",
     "text": [
      "[6 5 7 8] <class 'numpy.ndarray'>\n"
     ]
    },
    {
     "data": {
      "text/plain": [
       "array([[0, 1, 2, 3],\n       [4, 5, 6, 7]])"
      ]
     },
     "execution_count": 22,
     "metadata": {},
     "output_type": "execute_result"
    }
   ],
   "source": [
    "# 生成ndarray\n",
    "data = [6, 5, 7, 8]\n",
    "arr = np.array(data)\n",
    "print(arr, type(arr))\n",
    "arr\n",
    "arr = np.arange(8).reshape((2, 4))\n",
    "arr"
   ]
  },
  {
   "cell_type": "code",
   "execution_count": 23,
   "metadata": {},
   "outputs": [
    {
     "data": {
      "text/plain": [
       "array([0., 0., 0., 0., 0., 0., 0., 0., 0., 0.])"
      ]
     },
     "execution_count": 23,
     "metadata": {},
     "output_type": "execute_result"
    }
   ],
   "source": [
    "np.zeros(10)"
   ]
  },
  {
   "cell_type": "code",
   "execution_count": 25,
   "metadata": {},
   "outputs": [
    {
     "data": {
      "text/plain": [
       "array([[0., 0., 0., 0.],\n       [0., 0., 0., 0.],\n       [0., 0., 0., 0.]])"
      ]
     },
     "execution_count": 25,
     "metadata": {},
     "output_type": "execute_result"
    }
   ],
   "source": [
    "np.zeros((3, 4))"
   ]
  },
  {
   "cell_type": "code",
   "execution_count": 28,
   "metadata": {},
   "outputs": [
    {
     "data": {
      "text/plain": [
       "array([[1., 1., 1.],\n       [1., 1., 1.],\n       [1., 1., 1.]])"
      ]
     },
     "execution_count": 28,
     "metadata": {},
     "output_type": "execute_result"
    }
   ],
   "source": [
    "np.ones(10)\n",
    "np.ones((3, 3))"
   ]
  },
  {
   "cell_type": "code",
   "execution_count": 44,
   "metadata": {},
   "outputs": [
    {
     "data": {
      "text/plain": [
       "array([[0.        , 0.        , 0.4472136 , 0.0531494 , 0.18257419],\n       [0.4472136 , 0.2125976 , 0.36514837, 0.4472136 , 0.4783446 ],\n       [0.54772256, 0.4472136 , 0.85039041, 0.73029674, 0.4472136 ]])"
      ]
     },
     "execution_count": 44,
     "metadata": {},
     "output_type": "execute_result"
    }
   ],
   "source": [
    "np.empty(5)\n",
    "np.empty((3, 5))"
   ]
  },
  {
   "cell_type": "code",
   "execution_count": 48,
   "metadata": {},
   "outputs": [
    {
     "data": {
      "text/plain": [
       "dtype('int64')"
      ]
     },
     "execution_count": 48,
     "metadata": {},
     "output_type": "execute_result"
    }
   ],
   "source": [
    "arr\n",
    "arr.dtype"
   ]
  },
  {
   "cell_type": "code",
   "execution_count": 51,
   "metadata": {},
   "outputs": [
    {
     "data": {
      "text/plain": [
       "dtype('float64')"
      ]
     },
     "execution_count": 51,
     "metadata": {},
     "output_type": "execute_result"
    }
   ],
   "source": [
    "arr = arr.astype(np.float64)\n",
    "arr.dtype"
   ]
  },
  {
   "cell_type": "code",
   "execution_count": 55,
   "metadata": {},
   "outputs": [
    {
     "name": "stdout",
     "output_type": "stream",
     "text": [
      "[0.1 0.2] [0 1 2 3 4 5 6 7 8 9]\nfloat64\n"
     ]
    }
   ],
   "source": [
    "int_arr = np.arange(10)\n",
    "float_arr = np.array([0.1, 0.2], dtype=np.float64)\n",
    "print(float_arr, int_arr)\n",
    "int_arr = int_arr.astype(float_arr.dtype)\n",
    "print(int_arr.dtype)"
   ]
  },
  {
   "cell_type": "code",
   "execution_count": 58,
   "metadata": {},
   "outputs": [
    {
     "data": {
      "text/plain": [
       "array([6, 0, 5, 0, 7, 0, 8, 0], dtype=uint32)"
      ]
     },
     "execution_count": 58,
     "metadata": {},
     "output_type": "execute_result"
    }
   ],
   "source": [
    "np.empty(8, dtype='u4')"
   ]
  },
  {
   "cell_type": "markdown",
   "metadata": {},
   "source": [
    "### 数组算术、基础索引与切片、布尔索引"
   ]
  },
  {
   "cell_type": "code",
   "execution_count": 83,
   "metadata": {},
   "outputs": [
    {
     "name": "stdout",
     "output_type": "stream",
     "text": [
      "[[1 2 3]\n [4 5 6]\n [7 8 9]]\n[[ 1  4  9]\n [16 25 36]\n [49 64 81]]\n[[0 0 0]\n [0 0 0]\n [0 0 0]]\n[[1.         0.5        0.33333333]\n [0.25       0.2        0.16666667]\n [0.14285714 0.125      0.11111111]]\n[[ True  True  True]\n [ True  True  True]\n [ True  True  True]]\n[[1 2]\n [4 5]]\n5\n5\n"
     ]
    }
   ],
   "source": [
    "arr = np.arange(1, 10).reshape(3, 3)\n",
    "print(arr)\n",
    "print(arr * arr)\n",
    "print(arr - arr)\n",
    "print(1 / arr)\n",
    "print(arr >= arr)\n",
    "print(arr[0:2, 0:2])\n",
    "print(arr[1][1])\n",
    "print(arr[1, 1])\n"
   ]
  },
  {
   "cell_type": "code",
   "execution_count": 95,
   "metadata": {},
   "outputs": [
    {
     "name": "stdout",
     "output_type": "stream",
     "text": [
      "[[[ 1  2  3]\n  [ 4  5  6]]\n\n [[ 7  8  9]\n  [10 11 12]]]\n[[1 2 3]\n [4 5 6]]\n[[[42 42 42]\n  [42 42 42]]\n\n [[ 7  8  9]\n  [10 11 12]]]\n[[[ 1  2  3]\n  [ 4  5  6]]\n\n [[ 7  8  9]\n  [10 11 12]]]\n[7 8 9]\n"
     ]
    }
   ],
   "source": [
    "arr3d = np.arange(1, 13).reshape((2, 2, 3))\n",
    "print(arr3d)\n",
    "\n",
    "old_arr0 = arr3d[0].copy()\n",
    "print(old_arr0)\n",
    "arr3d[0] = 42\n",
    "print(arr3d)\n",
    "arr3d[0] = old_arr0\n",
    "print(arr3d)\n",
    "print(arr3d[1, 0])\n"
   ]
  },
  {
   "cell_type": "code",
   "execution_count": 113,
   "metadata": {},
   "outputs": [
    {
     "name": "stdout",
     "output_type": "stream",
     "text": [
      "[[ 1  2  3  4]\n [ 5  6  7  8]\n [ 9 10 11 12]]\n[[1 2 3 4]\n [5 6 7 8]]\n[[2 3 4]\n [6 7 8]]\n[5 6]\n[3 7]\n[ 3  7 11]\n[[ 1  2]\n [ 5  6]\n [ 9 10]]\n[[1]\n [5]\n [9]]\n[1 5 9]\n[]\n[[ 1  0  0  0]\n [ 5  0  0  0]\n [ 9 10 11 12]]\n"
     ]
    }
   ],
   "source": [
    "arr2d = np.arange(1, 13).reshape((3, 4))\n",
    "print(arr2d)\n",
    "print(arr2d[:2])\n",
    "print(arr2d[:2, 1:])\n",
    "print(arr2d[1, :2])\n",
    "print(arr2d[:2, 2])\n",
    "print(arr2d[:, 2])\n",
    "print(arr2d[:, :2])\n",
    "print(arr2d[:, :1])\n",
    "print(arr2d[:, 0])\n",
    "print(arr2d[:, :0])\n",
    "arr2d[:2, 1:] = 0\n",
    "print(arr2d)\n"
   ]
  },
  {
   "cell_type": "code",
   "execution_count": 128,
   "metadata": {},
   "outputs": [
    {
     "name": "stdout",
     "output_type": "stream",
     "text": [
      "['Bob' 'Joe' 'Will' 'Bob' 'Will' 'Joe' 'Joe']\n[[ 1.08242952 -0.95645674  0.44963277  1.1372564 ]\n [ 1.49730423 -0.78768223 -1.45899633 -0.01416095]\n [ 0.58014908  2.00953513 -0.59485909 -1.52061163]\n [ 0.56923112 -2.15620642 -0.45816494 -0.92446478]\n [-0.79051119  1.24054449 -1.42670537  0.56280069]\n [-0.77698944  0.48128837  1.13360837  1.30442087]\n [ 1.38586106 -1.82775817 -1.51841996 -0.23194122]]\n[[ 1.08242952 -0.95645674  0.44963277  1.1372564 ]\n [ 0.56923112 -2.15620642 -0.45816494 -0.92446478]]\n[[ 0.44963277  1.1372564 ]\n [-0.45816494 -0.92446478]]\n[ 1.1372564  -0.92446478]\n[False  True  True False  True  True  True]\n[[ 1.49730423 -0.78768223 -1.45899633 -0.01416095]\n [ 0.58014908  2.00953513 -0.59485909 -1.52061163]\n [-0.79051119  1.24054449 -1.42670537  0.56280069]\n [-0.77698944  0.48128837  1.13360837  1.30442087]\n [ 1.38586106 -1.82775817 -1.51841996 -0.23194122]]\n[False  True  True False  True  True  True]\n[[ 1.49730423 -0.78768223 -1.45899633 -0.01416095]\n [ 0.58014908  2.00953513 -0.59485909 -1.52061163]\n [-0.79051119  1.24054449 -1.42670537  0.56280069]\n [-0.77698944  0.48128837  1.13360837  1.30442087]\n [ 1.38586106 -1.82775817 -1.51841996 -0.23194122]]\n[ True False  True  True  True False False]\n[-0.95645674 -0.78768223 -1.45899633 -0.01416095 -0.59485909 -1.52061163\n -2.15620642 -0.45816494 -0.92446478 -0.79051119 -1.42670537 -0.77698944\n -1.82775817 -1.51841996 -0.23194122]\n[[1.08242952 0.         0.44963277 1.1372564 ]\n [1.49730423 0.         0.         0.        ]\n [0.58014908 2.00953513 0.         0.        ]\n [0.56923112 0.         0.         0.        ]\n [0.         1.24054449 0.         0.56280069]\n [0.         0.48128837 1.13360837 1.30442087]\n [1.38586106 0.         0.         0.        ]]\n[[7.         7.         7.         7.        ]\n [1.49730423 0.         0.         0.        ]\n [7.         7.         7.         7.        ]\n [7.         7.         7.         7.        ]\n [7.         7.         7.         7.        ]\n [0.         0.48128837 1.13360837 1.30442087]\n [1.38586106 0.         0.         0.        ]]\n"
     ]
    }
   ],
   "source": [
    "names = np.array(['Bob', 'Joe', 'Will', 'Bob', 'Will', 'Joe', 'Joe'])\n",
    "data = np.random.randn(7, 4)\n",
    "print(names)\n",
    "print(data)\n",
    "print(data[names == 'Bob'])\n",
    "print(data[names == 'Bob', 2:])\n",
    "print(data[names == 'Bob', 3])\n",
    "print(names != 'Bob')\n",
    "print(data[names != 'Bob'])\n",
    "print(~(names == 'Bob'))\n",
    "print(data[~(names == 'Bob')])\n",
    "\n",
    "# Python的关键字and和or对布尔值数组并没有用，只能使用 & 和 | 来代替。\n",
    "mask = (names == 'Bob') | (names == 'Will')\n",
    "print(mask)\n",
    "print(data[data < 0])\n",
    "data[data < 0] = 0\n",
    "print(data)\n",
    "data[names != 'Joe'] = 7\n",
    "print(data)\n"
   ]
  },
  {
   "cell_type": "markdown",
   "metadata": {},
   "source": [
    "### 神奇索引"
   ]
  },
  {
   "cell_type": "code",
   "execution_count": 115,
   "metadata": {},
   "outputs": [],
   "source": []
  },
  {
   "cell_type": "code",
   "execution_count": 115,
   "metadata": {},
   "outputs": [],
   "source": []
  },
  {
   "cell_type": "code",
   "execution_count": 115,
   "metadata": {},
   "outputs": [],
   "source": []
  },
  {
   "cell_type": "code",
   "execution_count": 115,
   "metadata": {},
   "outputs": [],
   "source": []
  },
  {
   "cell_type": "code",
   "execution_count": null,
   "metadata": {},
   "outputs": [],
   "source": []
  }
 ],
 "metadata": {
  "kernelspec": {
   "display_name": "Python 2",
   "language": "python",
   "name": "python2"
  },
  "language_info": {
   "codemirror_mode": {
    "name": "ipython",
    "version": 2
   },
   "file_extension": ".py",
   "mimetype": "text/x-python",
   "name": "python",
   "nbconvert_exporter": "python",
   "pygments_lexer": "ipython2",
   "version": "2.7.6"
  }
 },
 "nbformat": 4,
 "nbformat_minor": 0
}
