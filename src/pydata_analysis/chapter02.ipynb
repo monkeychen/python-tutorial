{
 "cells": [
  {
   "cell_type": "code",
   "execution_count": null,
   "metadata": {
    "collapsed": false,
    "pycharm": {
     "name": "#%%\n"
    }
   },
   "outputs": [],
   "source": [
    "def is_iterable(obj):\n",
    "    try:\n",
    "        iter(obj)\n",
    "        return True\n",
    "    except TypeError:\n",
    "        return False\n",
    "\n",
    "\n",
    "is_iterable(\"a string\")\n",
    "\n",
    "is_iterable([1, 2, 3])\n",
    "is_iterable(5)\n",
    "a = None\n",
    "a is None\n",
    "# 整除\n",
    "3 // 2\n"
   ]
  },
  {
   "cell_type": "code",
   "execution_count": 6,
   "metadata": {
    "collapsed": false,
    "pycharm": {
     "name": "#%%\n"
    }
   },
   "outputs": [
    {
     "name": "stdout",
     "output_type": "stream",
     "text": [
      "3\n12\\34\n12\\34\\56\n12\\34\\56\\789\n"
     ]
    }
   ],
   "source": [
    "c = \"\"\"\n",
    "This is a longer string that\n",
    "spans multiple lines\n",
    "\"\"\"\n",
    "print(c.count(\"\\n\"))\n",
    "s = \"12\\\\34\"\n",
    "print(s)\n",
    "print(r\"12\\34\\56\")\n",
    "print(\"12\\\\34\\\\56\\\\789\")\n"
   ]
  },
  {
   "cell_type": "code",
   "execution_count": 9,
   "metadata": {
    "collapsed": false,
    "pycharm": {
     "name": "#%%\n"
    }
   },
   "outputs": [
    {
     "name": "stdout",
     "output_type": "stream",
     "text": [
      "4.56 TESTSTR are worth US$2\n"
     ]
    }
   ],
   "source": [
    "# 字符串格式化\n",
    "tmpl = '{0:.2f} {1:s} are worth US${2:d}'\n",
    "print(tmpl.format(4.5560, 'TESTSTR', 2))"
   ]
  },
  {
   "cell_type": "code",
   "execution_count": 17,
   "metadata": {
    "collapsed": false,
    "pycharm": {
     "name": "#%%\n"
    }
   },
   "outputs": [
    {
     "name": "stdout",
     "output_type": "stream",
     "text": [
      "b'espano\\xe6\\x88\\x91l' <class 'bytes'>\n",
      "espano我l\n",
      "b'this is bytes' <class 'bytes'> this is bytes <class 'str'>\n"
     ]
    }
   ],
   "source": [
    "# 字符编码Unicode\n",
    "val = \"espano我l\"\n",
    "val_utf8 = val.encode(\"utf-8\")\n",
    "print(val_utf8, type(val_utf8))\n",
    "print(val_utf8.decode('utf-8'))\n",
    "b_val = b'this is bytes'\n",
    "print(b_val, type(b_val), b_val.decode(\"utf-8\"), type(b_val.decode('utf-8')))"
   ]
  },
  {
   "cell_type": "code",
   "execution_count": 21,
   "metadata": {
    "collapsed": false,
    "pycharm": {
     "name": "#%%\n"
    }
   },
   "outputs": [
    {
     "name": "stdout",
     "output_type": "stream",
     "text": [
      "1 2\n",
      "3 4\n"
     ]
    }
   ],
   "source": [
    "l = [[1, 2], [3, 4]]\n",
    "for a, b in l:\n",
    "    print(a, b)"
   ]
  },
  {
   "cell_type": "code",
   "execution_count": null,
   "metadata": {
    "collapsed": false,
    "pycharm": {
     "name": "#%%\n"
    }
   },
   "outputs": [],
   "source": []
  }
 ],
 "metadata": {
  "kernelspec": {
   "display_name": "PyCharm (DevelopEnvironment)",
   "language": "python",
   "name": "pycharm-67d336da"
  },
  "language_info": {
   "codemirror_mode": {
    "name": "ipython",
    "version": 2
   },
   "file_extension": ".py",
   "mimetype": "text/x-python",
   "name": "python",
   "nbconvert_exporter": "python",
   "pygments_lexer": "ipython2",
   "version": "2.7.6"
  }
 },
 "nbformat": 4,
 "nbformat_minor": 0
}
