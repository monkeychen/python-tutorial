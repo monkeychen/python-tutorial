{
 "cells": [
  {
   "cell_type": "markdown",
   "metadata": {
    "collapsed": true
   },
   "source": [
    "## 第三章 内建数据结构、函数及文件"
   ]
  },
  {
   "cell_type": "code",
   "execution_count": 1,
   "metadata": {},
   "outputs": [
    {
     "data": {
      "text/plain": [
       "(4, 5, 6)"
      ]
     },
     "execution_count": 1,
     "metadata": {},
     "output_type": "execute_result"
    }
   ],
   "source": [
    "tup = 4, 5, 6\n",
    "tup"
   ]
  },
  {
   "cell_type": "code",
   "execution_count": 2,
   "metadata": {},
   "outputs": [
    {
     "data": {
      "text/plain": [
       "(4, 5, 6, 4, 5, 6)"
      ]
     },
     "execution_count": 2,
     "metadata": {},
     "output_type": "execute_result"
    }
   ],
   "source": [
    "tup * 2\n"
   ]
  },
  {
   "cell_type": "code",
   "execution_count": 8,
   "metadata": {},
   "outputs": [
    {
     "name": "stdout",
     "output_type": "stream",
     "text": [
      "1 2\n[3, 4, 5]\n_ =  [3, 4, 5]\n"
     ]
    }
   ],
   "source": [
    "values = 1, 2, 3, 4, 5\n",
    "a, b, *rest = values\n",
    "print(a, b)\n",
    "print(rest)\n",
    "a, b, *_ = values\n",
    "print(\"_ = \", _)\n"
   ]
  },
  {
   "cell_type": "code",
   "execution_count": 17,
   "metadata": {},
   "outputs": [
    {
     "name": "stdout",
     "output_type": "stream",
     "text": [
      "0 foo one\n1 bar two\n2 baz three\n"
     ]
    }
   ],
   "source": [
    "seq1 = ['foo', 'bar', 'baz']\n",
    "seq2 = ['one', 'two', 'three']\n",
    "zipped = zip(seq1, seq2)\n",
    "# print(list(zipped))\n",
    "for i, (a, b) in enumerate(zipped):\n",
    "    print(i, a, b)\n"
   ]
  },
  {
   "cell_type": "code",
   "execution_count": 18,
   "metadata": {},
   "outputs": [
    {
     "data": {
      "text/plain": [
       "[('a', 'b', 'c'), ('1', 2, 3)]"
      ]
     },
     "execution_count": 18,
     "metadata": {},
     "output_type": "execute_result"
    }
   ],
   "source": [
    "pitchers = [('a', '1'), ('b', 2), ('c', 3)]\n",
    "list(zip(*pitchers))\n"
   ]
  },
  {
   "cell_type": "code",
   "execution_count": 24,
   "metadata": {},
   "outputs": [
    {
     "name": "stdout",
     "output_type": "stream",
     "text": [
      "['c', 'f', 'a'] [3, 6, 1]\n{'a': ['apple', 'atom'], 'b': ['bat', 'bar', 'book']}\n{'a': ['apple', 'atom'], 'b': ['bat', 'bar', 'book']}\n{'a': ['apple', 'atom'], 'b': ['bat', 'bar', 'book']}\n"
     ]
    }
   ],
   "source": [
    "d1 = {'c': 3, 'f': 6, 'a': 1}\n",
    "# 顺序一样\n",
    "print(list(d1.keys()), list(d1.values()))\n",
    "words = ['apple', 'bat', 'bar', 'atom', 'book']\n",
    "by_letter = {}\n",
    "for word in words:\n",
    "    letter = word[0]\n",
    "    if letter not in by_letter:\n",
    "        by_letter[letter] = [word]\n",
    "    else:\n",
    "        by_letter[letter].append(word)\n",
    "\n",
    "print(by_letter)\n",
    "\n",
    "# 另一种方法\n",
    "by_letter = {}\n",
    "for word in words:\n",
    "    letter = word[0]\n",
    "    by_letter.setdefault(letter, []).append(word)\n",
    "\n",
    "print(by_letter)\n",
    "\n",
    "from collections import defaultdict\n",
    "by_letter = defaultdict(list)\n",
    "for word in words:\n",
    "    by_letter[word[0]].append(word)\n",
    "\n",
    "print(dict(by_letter))\n"
   ]
  },
  {
   "cell_type": "markdown",
   "metadata": {},
   "source": [
    "* 只有不可变对象才能作为字典的键，此时可以使用hash函数来检查一个对象是可以用作字典的键。"
   ]
  },
  {
   "cell_type": "code",
   "execution_count": 28,
   "metadata": {},
   "outputs": [
    {
     "name": "stdout",
     "output_type": "stream",
     "text": [
      "-2689042459074115791\n1097636502276347782\n-2725224101759650258\n"
     ]
    }
   ],
   "source": [
    "print(hash('string'))\n",
    "print(hash((1, 2, (2, 3))))\n",
    "# print(hash((1, 2, [3, 4])))\n",
    "print(hash((1, 2, tuple([3, 4]))))\n"
   ]
  },
  {
   "cell_type": "code",
   "execution_count": 13,
   "metadata": {},
   "outputs": [
    {
     "name": "stdout",
     "output_type": "stream",
     "text": [
      "['Bat', 'Car', 'Dove', 'Python']\n[1, 2, 3, 3, 4, 6]\n{1, 2, 3, 4, 6}\n{'a': 0, 'as': 1, 'bat': 2, 'car': 3, 'dove': 4, 'python': 5}\n"
     ]
    }
   ],
   "source": [
    "strings = ['a', 'as', 'bat', 'car', 'dove', 'python']\n",
    "a = [x.capitalize() for x in strings if len(x) > 2]\n",
    "print(a)\n",
    "print(list(map(len, strings)))\n",
    "print(set(map(len, strings)))\n",
    "print({val: idx for idx, val in enumerate(strings)})\n"
   ]
  },
  {
   "cell_type": "code",
   "execution_count": 7,
   "metadata": {},
   "outputs": [
    {
     "name": "stdout",
     "output_type": "stream",
     "text": [
      "['emmeie', 'eeeaa', 'steven']\n['emmeie', 'eeeaa', 'steven']\n[(1, 2, 3), (4, 5, 6), (7, 8, 9)]\n[1, 2, 3, 4, 5, 6, 7, 8, 9]\n[[1, 2, 3], [4, 5, 6], [7, 8, 9]]\n"
     ]
    }
   ],
   "source": [
    "all_data = [['John', 'Emily', 'emmeie'], ['aaa', 'eeeaa', 'steven']]\n",
    "names_of_interest = []\n",
    "for names in all_data:\n",
    "    enough_es = [name for name in names if name.count('e') >= 2]\n",
    "    names_of_interest.extend(enough_es)\n",
    "\n",
    "print(names_of_interest)\n",
    "\n",
    "# 嵌套实现方式\n",
    "names_of_interest = [name for names in all_data for name in names if name.count('e') >= 2]\n",
    "print(names_of_interest)\n",
    "\n",
    "some_tuples = [(1, 2, 3), (4, 5, 6), (7, 8, 9)]\n",
    "print(some_tuples)\n",
    "flattened = [x for tup in some_tuples for x in tup]\n",
    "print(flattened)\n",
    "\n",
    "print([[x for x in tup] for tup in some_tuples])\n"
   ]
  },
  {
   "cell_type": "code",
   "execution_count": 10,
   "metadata": {},
   "outputs": [
    {
     "name": "stdout",
     "output_type": "stream",
     "text": [
      "Total Employee 2\nName :  Zara , Salary:  2000\nName :  Manni , Salary:  5000\nTotal Employee 2\n<class 'type'>\n"
     ]
    }
   ],
   "source": [
    "class Employee:\n",
    "    \"\"\"\n",
    "    所有员工的基类\n",
    "    \"\"\"\n",
    "    empCount = 0\n",
    "\n",
    "    def __init__(self, name, salary):\n",
    "        self.name = name\n",
    "        self.salary = salary\n",
    "        Employee.empCount += 1\n",
    "\n",
    "    def displayCount(self):\n",
    "        print(\"Total Employee %d\" % self.empCount)\n",
    "\n",
    "    def displayEmployee(self):\n",
    "        print(\"Name : \", self.name,  \", Salary: \", self.salary)\n",
    "\n",
    "\n",
    "\"创建 Employee 类的第一个对象\"\n",
    "emp1 = Employee(\"Zara\", 2000)\n",
    "\"创建 Employee 类的第二个对象\"\n",
    "emp2 = Employee(\"Manni\", 5000)\n",
    "emp1.displayCount()\n",
    "emp1.displayEmployee()\n",
    "emp2.displayEmployee()\n",
    "print(\"Total Employee %d\" % Employee.empCount)\n",
    "print(Employee.__class__)\n"
   ]
  },
  {
   "cell_type": "code",
   "execution_count": 19,
   "metadata": {
    "collapsed": true
   },
   "outputs": [
    {
     "name": "stdout",
     "output_type": "stream",
     "text": [
      "<class 'type'>\nBird\n__main__\ni can fly\ni can fly2...\n"
     ]
    }
   ],
   "source": [
    "class Bird:\n",
    "    def fly(self):\n",
    "        print(Bird.__name__)\n",
    "        print(Bird.__module__)\n",
    "        print(\"i can fly\")\n",
    "\n",
    "\n",
    "print(Bird.__class__)\n",
    "b = Bird()\n",
    "b.fly()\n",
    "\n",
    "\n",
    "def fly2(self):\n",
    "    print(\"i can fly2...\")\n",
    "\n",
    "\n",
    "Bird2 = type(\"Bird3\", (object, ), {'fly2': fly2})\n",
    "b = Bird2()\n",
    "b.fly2()\n"
   ]
  },
  {
   "cell_type": "code",
   "execution_count": 33,
   "metadata": {},
   "outputs": [
    {
     "name": "stdout",
     "output_type": "stream",
     "text": [
      "new\ninit\nfly\nred\nblue\n{'__module__': '__main__', 'color': 'blue', '__init__': <function Bird3.__init__ at 0x115d45170>, 'fly': <function Bird3.fly at 0x115d45200>, '__new__': <staticmethod object at 0x115d3b710>, '__dict__': <attribute '__dict__' of 'Bird3' objects>, '__weakref__': <attribute '__weakref__' of 'Bird3' objects>, '__doc__': None}\n"
     ]
    }
   ],
   "source": [
    "class Bird3:\n",
    "    color = \"blue\"\n",
    "    \n",
    "    def __init__(self):\n",
    "        print(\"init\")\n",
    "        self.color = 'red'\n",
    "        \n",
    "    def fly(self):\n",
    "        print(\"fly\")\n",
    "        \n",
    "    def __new__(self):\n",
    "        print(\"new\")\n",
    "        return object.__new__(self)\n",
    "\n",
    "\n",
    "c = Bird3()\n",
    "c.fly()\n",
    "print(c.color)\n",
    "print(Bird3.color)\n",
    "print(Bird3.__dict__)\n"
   ]
  },
  {
   "cell_type": "code",
   "execution_count": 42,
   "metadata": {
    "collapsed": false
   },
   "outputs": [
    {
     "name": "stdout",
     "output_type": "stream",
     "text": [
      "类初始化的时候执行__init__\n梦想是找到传说中的One Piece，成为海贼王\n蒙奇·D·路飞\n蒙奇·D·路飞\n吃肉梦想是找到传说中的One Piece，成为海贼王\n"
     ]
    }
   ],
   "source": [
    "class Lufei:\n",
    "    def __init__(self, dream):\n",
    "        print(\"类初始化的时候执行__init__\")\n",
    "        self.__dream = dream\n",
    "\n",
    "    __name = \"蒙奇·D·路飞\"  # 加__前缀变成私有变量\n",
    "    age = 10\n",
    "    \n",
    "    def eatmeat(self):\n",
    "        print(\"吃肉\"+self.__dream)  # 私有变量在外部无法访问，内部可以访问\n",
    "\n",
    "\n",
    "l1 = Lufei(\"梦想是找到传说中的One Piece，成为海贼王\")      # 实例化\n",
    "print(l1._Lufei__dream)  \n",
    "print(l1._Lufei__name)  \n",
    "print(Lufei._Lufei__name)  \n",
    "l1.eatmeat()    # 调用类的方法\n",
    "# print(Lufei.__name)  # AttributeError: type object 'Lufei' has no attribute '__name'\n"
   ]
  },
  {
   "cell_type": "code",
   "execution_count": 50,
   "metadata": {},
   "outputs": [
    {
     "name": "stdout",
     "output_type": "stream",
     "text": [
      "fly\n<__main__.Bird object at 0x115d47f90>\neat\n<class '__main__.Bird'>\nsleep\neat\n<class '__main__.Bird'>\nsleep\n__main__\n__main__\n<class 'type'>\n<class '__main__.Bird'>\nBird\n(<class 'object'>,)\n{'__module__': '__main__', 'name': 'lalal', 'fly': <function Bird.fly at 0x115d21950>, 'eat': <classmethod object at 0x115d47fd0>, 'sleep': <staticmethod object at 0x115d474d0>, '__dict__': <attribute '__dict__' of 'Bird' objects>, '__weakref__': <attribute '__weakref__' of 'Bird' objects>, '__doc__': None}\n{}\n"
     ]
    }
   ],
   "source": [
    "class Bird:\n",
    "    name = \"lalal\"\n",
    "\n",
    "    def fly(self):\n",
    "        print(\"fly\")\n",
    "        print(self)  # 输出: <__main__.Bird object at 0x00000000022032E8>\n",
    "\n",
    "    @classmethod\n",
    "    def eat(cls):\n",
    "        # 一个类方法就可以通过类或它的实例来调用的方法, 不管你是用类来调用这个方法还是类实例调用这个方法,该方法的第一个参数总是定义该方法的类对象。 \n",
    "        # 记住:方法的第一个参数都是类对象而不是实例对象\n",
    "        # 类方法\n",
    "        print(\"eat\")\n",
    "        print(cls)  # 输出：<class '__main__.Bird'>\n",
    "\n",
    "    @staticmethod\n",
    "    def sleep():\n",
    "        # 使用静态方法的好处是，不需要定义实例即可使用这个方法。另外，多个实例共享此静态方法。\n",
    "        # 使用了静态方法，则不能再使用self\n",
    "        # 静态方法不能访问类变量和实例变量\n",
    "        # print(name)#报错\n",
    "        print(\"sleep\")\n",
    "\n",
    "\n",
    "b = Bird()\n",
    "# Bird.fly(b) 传递self进去，不传递只是一个语法糖\n",
    "b.fly()  # 实例方法只能被实例对象调用\n",
    "# 静态方法(由@staticmethod装饰的方法)、类方法(由@classmethod装饰的方法)，可以被类或类的实例对象调用\n",
    "b.eat()\n",
    "b.sleep()\n",
    "# 可以被类或类的实例对象调用\n",
    "Bird.eat()\n",
    "Bird.sleep()\n",
    "print(Bird.__module__)\n",
    "print(b.__module__)\n",
    "print(Bird.__class__)\n",
    "print(b.__class__)\n",
    "print(Bird.__name__)\n",
    "# print(b.__name__)\n",
    "print(Bird.__bases__)\n",
    "print(Bird.__dict__)\n",
    "print(b.__dict__)\n",
    "\n",
    "# 实例方法、类方法、静态方法区别：\n",
    "# 1.实例方法隐含的参数为类实例ｓｅｌｆ，而类方法隐含的参数为类本身ｃｌｓ。\n",
    "# 静态方法无隐含参数，主要为了类实例也可以直接调用静态方法。\n",
    "# 2.静态方法是无法访问实例变量的\n",
    "# 3.类成员方法也同样无法访问实例变量，但可以访问类变量；\n",
    "# 静态方法有点像函数工具库的作用，而类成员方法则更接近类似Java面向对象概念中的静态方法。\n"
   ]
  },
  {
   "cell_type": "code",
   "execution_count": 51,
   "metadata": {},
   "outputs": [
    {
     "name": "stdout",
     "output_type": "stream",
     "text": [
      "蒙奇·D·龙\n推翻世界政府，改变世界抹去不需要人的规则。建立和谐，自由，平等，充满梦想的世界。\n"
     ]
    }
   ],
   "source": [
    "# 父类\n",
    "class Long:\n",
    "    name = \"蒙奇·D·龙\"\n",
    "    \n",
    "    def Getdream(self):\n",
    "        print(\"推翻世界政府，改变世界抹去不需要人的规则。建立和谐，自由，平等，充满梦想的世界。\")\n",
    "\n",
    "\n",
    "class Hongfa:\n",
    "    name = \"香克斯\"\n",
    "\n",
    "\n",
    "# 子类\n",
    "class Lufei(Long, Hongfa):\n",
    "    pass\n",
    "\n",
    "\n",
    "l1 = Lufei()  # 实例化子类\n",
    "print(l1.name)  # 当访问的属性两个父类中都有定义的时候以第一个为主\n",
    "l1.Getdream()  # 从父类继承来的\n"
   ]
  },
  {
   "cell_type": "code",
   "execution_count": 53,
   "metadata": {},
   "outputs": [
    {
     "name": "stdout",
     "output_type": "stream",
     "text": [
      "(<class '__main__.D'>, <class '__main__.B'>, <class '__main__.C'>, <class '__main__.A'>, <class 'object'>)\nA\nC\nB\nD\nC中的show\n"
     ]
    }
   ],
   "source": [
    "class A(object):\n",
    "    def __init__(self):\n",
    "        print(\"A\")\n",
    "        \n",
    "    def show(self):\n",
    "        print(\"A中的show\")\n",
    "\n",
    "\n",
    "class B(A):\n",
    "    def __init__(self):\n",
    "        super().__init__()\n",
    "        print(\"B\")\n",
    "\n",
    "\n",
    "class C(A):\n",
    "    def __init__(self):\n",
    "        super().__init__()\n",
    "        print(\"C\")\n",
    "        \n",
    "    def show(self):\n",
    "        # 重写了父类中的show\n",
    "        print(\"C中的show\")\n",
    "\n",
    "\n",
    "class D(B, C):\n",
    "    def __init__(self):\n",
    "        super().__init__()\n",
    "        print(\"D\")\n",
    "\n",
    "\n",
    "print(D.__mro__)\n",
    "d1 = D()\n",
    "d1.show()\n"
   ]
  },
  {
   "cell_type": "code",
   "execution_count": 55,
   "metadata": {},
   "outputs": [
    {
     "name": "stdout",
     "output_type": "stream",
     "text": [
      "三档\n火拳\n"
     ]
    }
   ],
   "source": [
    "# 父类\n",
    "class Long:\n",
    "    name = \"蒙奇·D·龙\"\n",
    "    \n",
    "    def Getdream(self):\n",
    "        print(\"推翻世界政府，改变世界抹去不需要人的规则。建立和谐，自由，平等，充满梦想的世界。\")\n",
    "\n",
    "    def Uniqueskills(self):\n",
    "        pass\n",
    "\n",
    "\n",
    "# 子类\n",
    "class Lufei(Long):\n",
    "    name = \"蒙奇·D·路飞\"\n",
    "    \n",
    "    def Uniqueskills(self):\n",
    "        print(\"三档\")\n",
    "\n",
    "\n",
    "# 子类\n",
    "class Aisi(Long):\n",
    "    name = \"艾斯\"\n",
    "    \n",
    "    def Uniqueskills(self):\n",
    "        print(\"火拳\")\n",
    "\n",
    "    # 定义父类作为参数，所有的子类都可以传参进去\n",
    "\n",
    "\n",
    "def Show(obj: Long):\n",
    "    obj.Uniqueskills()\n",
    "\n",
    "\n",
    "Show(Lufei())  # 输出三挡\n",
    "Show(Aisi())  # 输出火拳\n"
   ]
  },
  {
   "cell_type": "code",
   "execution_count": 57,
   "metadata": {
    "collapsed": true
   },
   "outputs": [
    {
     "name": "stdout",
     "output_type": "stream",
     "text": [
      "描述类的信息\n__main__\n<class '__main__.BigBrid'>\n{'__module__': '__main__', '__doc__': '描述类的信息', 'name': 'bb', 'eat': <function BigBrid.eat at 0x115d60320>, '__str__': <function BigBrid.__str__ at 0x115d603b0>, '__dict__': <attribute '__dict__' of 'BigBrid' objects>, '__weakref__': <attribute '__weakref__' of 'BigBrid' objects>}\n{'name': 'lala'}\nlidao\n"
     ]
    }
   ],
   "source": [
    "class BigBrid:\n",
    "    \"\"\"描述类的信息\"\"\"  # BigBrid.__doc__ 可以看到    \n",
    "    name = \"bb\"\n",
    "    \n",
    "    def eat(self):\n",
    "        print(\"吃\")\n",
    "        \n",
    "    def __str__(self):\n",
    "        return 'lidao'\n",
    "\n",
    "\n",
    "b = BigBrid()\n",
    "b.name = \"lala\"\n",
    "print(b.__doc__)  # 输出：描述类的信息\n",
    "print(b.__module__)  # 输出：__main__\n",
    "print(b.__class__)  # ：<class '__main__.BigBrid'>\n",
    "# __init__ 构造方法，通过类创建对象时，自动触发执行\n",
    "# __del__ 析构方法，当对象在内存中被释放时，自动触发执行。\n",
    "print(BigBrid.__dict__)  # 获取类的成员\n",
    "print(b.__dict__)  # 获取 对象b 的成员 输出：{'name': 'lala'}\n",
    "# __str__ 如果一个类中定义了__str__方法，那么在打印 对象 时，默认输出该方法的返回值。\n",
    "print(b)  # 输出 lidao\n"
   ]
  },
  {
   "cell_type": "code",
   "execution_count": 65,
   "metadata": {},
   "outputs": [
    {
     "name": "stdout",
     "output_type": "stream",
     "text": [
      "in for -> a =  [0, 1, 2, 3, 4]\nout for -> a =  [0, 1, 2, 3, 4]\n"
     ]
    }
   ],
   "source": [
    "a = None\n",
    "\n",
    "\n",
    "def func():\n",
    "    global a\n",
    "    a = []\n",
    "    for i in range(5):\n",
    "        a.append(i)\n",
    "    print(\"in for -> a = \", a)\n",
    "    \n",
    "\n",
    "func()    \n",
    "print(\"out for -> a = \", a)\n"
   ]
  },
  {
   "cell_type": "code",
   "execution_count": 71,
   "metadata": {},
   "outputs": [
    {
     "name": "stdout",
     "output_type": "stream",
     "text": [
      "['Aaaaabbbbb', 'Aaaakkkk', 'Kkkkkkllklk']\n-------\n['Aaaaabbbbb', 'Aaaakkkk', 'Kkkkkkllklk']\naaaaabbbbb\naaaakkkk\nkkkkkkllklk\nremove_punctuation\n"
     ]
    }
   ],
   "source": [
    "import re\n",
    "\n",
    "\n",
    "def clean_strings_normal(strings):\n",
    "    result = []\n",
    "    for value in strings:\n",
    "        value = value.strip()\n",
    "        value = re.sub('[! #?\\t]', '', value)\n",
    "        value = value.title()\n",
    "        result.append(value)\n",
    "    return result\n",
    "\n",
    "\n",
    "def remove_punctuation(value):\n",
    "    return re.sub('[! #?\\t]', '', value)\n",
    "\n",
    "\n",
    "def clean_strings_oop(strings, funs):\n",
    "    result = []\n",
    "    for value in strings:\n",
    "        for fun in funs:\n",
    "            value = fun(value)\n",
    "        result.append(value)\n",
    "    return result\n",
    "\n",
    "\n",
    "clean_funs = [str.strip, remove_punctuation, str.title]\n",
    "str_list = ['aaaaa\\tbbbbb', 'aaaa!!!kkkk', \"     kkkkk###kllklk\"]\n",
    "print(clean_strings_normal(str_list))\n",
    "print(\"-------\")\n",
    "print(clean_strings_oop(str_list, clean_funs))\n",
    "for x in map(remove_punctuation, str_list):\n",
    "    print(x)\n",
    "\n",
    "print(remove_punctuation.__name__)"
   ]
  },
  {
   "cell_type": "code",
   "execution_count": 74,
   "metadata": {},
   "outputs": [
    {
     "name": "stdout",
     "output_type": "stream",
     "text": [
      "6\n8\n"
     ]
    }
   ],
   "source": [
    "from functools import partial\n",
    "\n",
    "\n",
    "def add_numbers(x, y):\n",
    "    return x + y\n",
    "\n",
    "\n",
    "add_five = lambda y: add_numbers(5, y)\n",
    "print(add_five(1))\n",
    "add_six = partial(add_numbers, 6)\n",
    "print(add_six(2))\n"
   ]
  },
  {
   "cell_type": "code",
   "execution_count": 119,
   "metadata": {},
   "outputs": [
    {
     "name": "stdout",
     "output_type": "stream",
     "text": [
      "a\nb\nc\n[(0, 'a'), (1, 'b'), (2, 'c')]\n"
     ]
    }
   ],
   "source": [
    "dict1 = {'a': 1, 'b': 2, 'c': 3}\n",
    "for key in dict1:\n",
    "    print(key)\n",
    "\n",
    "# %xmode    \n",
    "print([(x, y) for x, y in enumerate(dict1)])\n"
   ]
  },
  {
   "cell_type": "code",
   "execution_count": 118,
   "metadata": {},
   "outputs": [
    {
     "name": "stdout",
     "output_type": "stream",
     "text": [
      "<generator object squares at 0x115c83d50>\n1 4 9 16 25 36 49 64 81 100 \n\n<generator object <genexpr> at 0x115d6c5d0>\n45\n"
     ]
    }
   ],
   "source": [
    "def squares(n=10):\n",
    "    for i in range(1, n + 1):\n",
    "        yield i ** 2\n",
    "        \n",
    "\n",
    "gen = squares()\n",
    "print(gen)\n",
    "for x in gen:\n",
    "    print(x, end=\" \")\n",
    "\n",
    "print(\"\\n\")\n",
    "gen = (x for x in range(10))\n",
    "print(gen)\n",
    "# print(list(gen))\n",
    "print(sum(gen))\n"
   ]
  },
  {
   "cell_type": "code",
   "execution_count": 94,
   "metadata": {},
   "outputs": [
    {
     "name": "stdout",
     "output_type": "stream",
     "text": [
      "A ['Alan', 'Adam']\nW ['Wes', 'Will']\nA ['Albert']\nS ['Steven']\n"
     ]
    }
   ],
   "source": [
    "import itertools\n",
    "\n",
    "first_letter = lambda x: x[0]\n",
    "names = ['Alan', 'Adam', 'Wes', 'Will', 'Albert', 'Steven']\n",
    "for letter, names in itertools.groupby(names, first_letter):\n",
    "    print(letter, list(names))\n"
   ]
  },
  {
   "cell_type": "code",
   "execution_count": 121,
   "metadata": {},
   "outputs": [
    {
     "name": "stdout",
     "output_type": "stream",
     "text": [
      "utf-8\n/Users/chenzhian/workspace/python/tutorial\n"
     ]
    }
   ],
   "source": [
    "import sys, os\n",
    "print(sys.getdefaultencoding())\n",
    "print(os.getcwd())\n"
   ]
  },
  {
   "cell_type": "code",
   "execution_count": 130,
   "metadata": {},
   "outputs": [
    {
     "name": "stdout",
     "output_type": "stream",
     "text": [
      "iso_8859_1.txt\n# python-tutorial\n\nA tutorial demo about learning python3 which is a blog system.\n中国人\n"
     ]
    }
   ],
   "source": [
    "# 将文件由一种编码转化为另一种编码\n",
    "sink_path = \"iso_8859_1.txt\"\n",
    "print(sink_path)\n",
    "with open(\"utf-8.txt\") as source:\n",
    "    with open(sink_path, 'w', encoding=\"GBK\") as sink:\n",
    "        sink.write(source.read())\n",
    "    \n",
    "    with open(sink_path, 'r', encoding='GBK') as f:\n",
    "        print(f.read())\n"
   ]
  },
  {
   "cell_type": "code",
   "execution_count": 67,
   "metadata": {},
   "outputs": [],
   "source": []
  },
  {
   "cell_type": "code",
   "execution_count": null,
   "metadata": {},
   "outputs": [],
   "source": []
  }
 ],
 "metadata": {
  "kernelspec": {
   "display_name": "Python 2",
   "language": "python",
   "name": "python2"
  },
  "language_info": {
   "codemirror_mode": {
    "name": "ipython",
    "version": 2
   },
   "file_extension": ".py",
   "mimetype": "text/x-python",
   "name": "python",
   "nbconvert_exporter": "python",
   "pygments_lexer": "ipython2",
   "version": "2.7.6"
  }
 },
 "nbformat": 4,
 "nbformat_minor": 0
}
